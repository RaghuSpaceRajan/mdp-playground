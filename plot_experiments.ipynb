{
 "cells": [
  {
   "cell_type": "code",
   "execution_count": null,
   "metadata": {},
   "outputs": [],
   "source": [
    "#### Setup to analyse an MDP Playground experiment\n",
    "from mdp_playground.analysis import MDPP_Analysis\n",
    "\n",
    "# Set the following to True to save PDFs of plots that you generate below\n",
    "save_fig = False"
   ]
  },
  {
   "cell_type": "code",
   "execution_count": null,
   "metadata": {
    "scrolled": true
   },
   "outputs": [],
   "source": [
    "# Data loading\n",
    "mdpp_analysis = MDPP_Analysis()\n",
    "\n",
    "# Option to also load evaluation runs if you recorded those for the experiment, which may be run intermittently during training runs\n",
    "load_eval = True\n",
    "\n",
    "# Load experiments' data.\n",
    "\n",
    "# experiments = { <exp_name_1>: <dir_name_1>, ... }\n",
    "# For each experiment (also works in case of a single experiment):\n",
    "# Set exp_name to the name that was given to the experiment when running it, i.e., with the -e option\n",
    "# Set dir_name to the location where the CSV files from running an experiment were saved\n",
    "experiments = {\n",
    "             \"td3_move_to_a_point_p_noise_target_radius\": \"/home/rajanr/spider_plots_data_Suresh/mdpp_12707717_TD3_P_noise_target_radius\",\n",
    "             \"ddpg_move_to_a_point_p_noise\": \"/home/rajanr/spider_plots_data_Suresh/mdpp_12680567_DDPG_P_noise\",\n",
    "             \"ddpg_move_to_a_point_r_noise\": \"/home/rajanr/spider_plots_data_Suresh/mdpp_12700125_DDPG_R_Noise\",\n",
    "             \"ddpg_move_to_a_point_target_radius\": \"/home/rajanr/spider_plots_data_Suresh/mdpp_12702414_DDPG_target_radius\",\n",
    "             \"ddpg_move_to_a_point_action_max\": \"/home/rajanr/spider_plots_data_Suresh/mdpp_12703211_DDPG_action_max\",\n",
    "             \"ddpg_move_to_a_point_time_unit\": \"/home/rajanr/spider_plots_data_Suresh/mdpp_12703537_DDPG_time_unit\",\n",
    "             \"ddpg_move_to_a_point_action_loss_weight\": \"/home/rajanr/spider_plots_data_Suresh/mdpp_12705480_DDPG_action_loss_weight\",\n",
    "             \"ddpg_move_to_a_point_irr_dims\": \"/home/rajanr/spider_plots_data_Suresh/mdpp_12713180_DDPG_irrelevant_features\",\n",
    "             \"td3_move_to_a_point_r_noise\": \"/home/rajanr/spider_plots_data_Suresh/mdpp_12712031_TD3_R_noise\",\n",
    "             \"td3_move_to_a_point_action_max\": \"/home/rajanr/spider_plots_data_Suresh/mdpp_12713006_TD3_action_max\",\n",
    "             \"td3_move_to_a_point_time_unit\": \"/home/rajanr/spider_plots_data_Suresh/mdpp_12713385_TD3_time_unit\",\n",
    "             \"td3_move_to_a_point_action_loss_weight\": \"/home/rajanr/spider_plots_data_Suresh/mdpp_12720811_TD3_action_loss_weight\",\n",
    "             \"td3_move_to_a_point_irr_dims\": \"/home/rajanr/spider_plots_data_Suresh/mdpp_12721705_TD3_irrelevant_features\",\n",
    "             \"sac_move_to_a_point_p_noise_target_radius\": \"/home/rajanr/spider_plots_data_Suresh/mdpp_12762946_SAC_P_noise_target_radius\",\n",
    "             \"sac_move_to_a_point_r_noise\": \"/home/rajanr/spider_plots_data_Suresh/mdpp_12760692_SAC_R_Noise\",\n",
    "             \"sac_move_to_a_point_action_max\": \"/home/rajanr/spider_plots_data_Suresh/mdpp_12746746_SAC_action_space_max\",\n",
    "             \"sac_move_to_a_point_time_unit\": \"/home/rajanr/spider_plots_data_Suresh/mdpp_12747791_SAC_time_unit\",\n",
    "             \"sac_move_to_a_point_action_loss_weight\": \"/home/rajanr/spider_plots_data_Suresh/mdpp_13090055_SAC_action_loss_weight\",\n",
    "             \"sac_move_to_a_point_irr_dims\": \"/home/rajanr/spider_plots_data_Suresh/mdpp_12748228_SAC_irrelevant_features\",          \n",
    "}\n",
    "\n",
    "# Remember to set load_eval=False in case evaluation stats were not recorded and only training stats were recorded, otherwise there will be errors in loading the data in this cell.\n",
    "list_exp_data = mdpp_analysis.load_data(experiments, load_eval=load_eval)"
   ]
  },
  {
   "cell_type": "code",
   "execution_count": null,
   "metadata": {},
   "outputs": [],
   "source": [
    "# 1-D: Plots showing reward after 20k timesteps when varying a single meta-feature\n",
    "# Plots across 10 runs: Training: with std dev across the runs\n",
    "mdpp_analysis.plot_1d_dimensions(list_exp_data, save_fig, plot_type = \"agent\")"
   ]
  },
  {
   "cell_type": "code",
   "execution_count": null,
   "metadata": {},
   "outputs": [],
   "source": [
    "# Plots across 10 runs: Evaluation: with std dev across the runs\n",
    "if load_eval:\n",
    "    mdpp_analysis.plot_1d_dimensions(list_exp_data, save_fig, train=False, plot_type = \"agent\")"
   ]
  },
  {
   "cell_type": "code",
   "execution_count": null,
   "metadata": {},
   "outputs": [],
   "source": [
    "# 1-D: Plots showing reward after 20k timesteps when varying a single meta-feature\n",
    "# Plots across 10 runs: Training: with std dev across the runs\n",
    "mdpp_analysis.plot_1d_dimensions(list_exp_data, save_fig, plot_type = \"metric\")"
   ]
  },
  {
   "cell_type": "code",
   "execution_count": null,
   "metadata": {},
   "outputs": [],
   "source": [
    "# Plots across 10 runs: Evaluation: with std dev across the runs\n",
    "if load_eval:\n",
    "    mdpp_analysis.plot_1d_dimensions(list_exp_data, save_fig, train=False, plot_type = \"metric\")"
   ]
  },
  {
   "cell_type": "code",
   "execution_count": null,
   "metadata": {},
   "outputs": [],
   "source": [
    "# This and the next cell do the same as the previous 2 cells but plot episode mean lengths instead of episode reward\n",
    "mdpp_analysis.plot_1d_dimensions(list_exp_data, save_fig, metric_num=-1, plot_type = \"agent\")"
   ]
  },
  {
   "cell_type": "code",
   "execution_count": null,
   "metadata": {
    "scrolled": false
   },
   "outputs": [],
   "source": [
    "if load_eval:\n",
    "    mdpp_analysis.plot_1d_dimensions(list_exp_data, save_fig, train=False, metric_num=-1, plot_type = \"agent\")"
   ]
  },
  {
   "cell_type": "code",
   "execution_count": null,
   "metadata": {},
   "outputs": [],
   "source": [
    "# IMPORTANT: The 2-D plots here are for the 1st experiment in the experiments dict above\n",
    "# 2-D heatmap plots across runs: Training runs: with std dev across the runs\n",
    "# There seems to be a bug with matplotlib - x and y axes tick labels are not correctly set even though we pass them. Please feel free to look into the code and suggest a correction if you find it.\n",
    "mdpp_analysis.plot_2d_heatmap(list_exp_data, save_fig)"
   ]
  },
  {
   "cell_type": "code",
   "execution_count": null,
   "metadata": {
    "scrolled": false
   },
   "outputs": [],
   "source": [
    "# 2-D heatmap plots across runs: Evaluation runs: with std dev across the runs\n",
    "if load_eval:\n",
    "    mdpp_analysis.plot_2d_heatmap(list_exp_data, save_fig, train=False)"
   ]
  },
  {
   "cell_type": "code",
   "execution_count": null,
   "metadata": {},
   "outputs": [],
   "source": [
    "# Plot learning curves: Training: Each curve corresponds to a different seed for the agent\n",
    "mdpp_analysis.plot_learning_curves(list_exp_data, save_fig)"
   ]
  },
  {
   "cell_type": "code",
   "execution_count": null,
   "metadata": {},
   "outputs": [],
   "source": [
    "# Plot learning curves: Evaluation: Each curve corresponds to a different seed for the agent\n",
    "if load_eval:\n",
    "    mdpp_analysis.plot_learning_curves(list_exp_data, save_fig, train=False)"
   ]
  },
  {
   "cell_type": "code",
   "execution_count": null,
   "metadata": {
    "scrolled": false
   },
   "outputs": [],
   "source": [
    "weights = {}\n",
    "weights['reward_noise'] = [.2, .2, .2, .2, .2, .0, .0, .0]\n",
    "weights['action_loss_weight'] = [.33, .33, .33, .0, .0, .0]\n",
    "\n",
    "# Plot radar(spider) plot: Training: across different meta-features\n",
    "mdpp_analysis.plot_radar(list_exp_data, save_fig, weights=weights)"
   ]
  },
  {
   "cell_type": "code",
   "execution_count": null,
   "metadata": {},
   "outputs": [],
   "source": [
    "# Plot radar(spider) plot: Evaluation: across different meta-features\n",
    "if load_eval:\n",
    "    mdpp_analysis.plot_radar(list_exp_data, save_fig, train=False)"
   ]
  }
 ],
 "metadata": {
  "kernelspec": {
   "display_name": "Python 3",
   "language": "python",
   "name": "python3"
  },
  "language_info": {
   "codemirror_mode": {
    "name": "ipython",
    "version": 3
   },
   "file_extension": ".py",
   "mimetype": "text/x-python",
   "name": "python",
   "nbconvert_exporter": "python",
   "pygments_lexer": "ipython3",
   "version": "3.6.9"
  }
 },
 "nbformat": 4,
 "nbformat_minor": 2
}
